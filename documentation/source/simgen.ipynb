{
 "cells": [
  {
   "cell_type": "code",
   "execution_count": 1,
   "id": "initial_id",
   "metadata": {},
   "outputs": [
    {
     "name": "stdout",
     "output_type": "stream",
     "text": [
      "pygame 2.5.2 (SDL 2.28.2, Python 3.10.12)\n",
      "Hello from the pygame community. https://www.pygame.org/contribute.html\n"
     ]
    }
   ],
   "source": [
    "import pathlib\n",
    "\n",
    "import pygame\n",
    "from metadrive.component.sensors.depth_camera import DepthCamera\n",
    "from metadrive.component.sensors.rgb_camera import RGBCamera\n",
    "from metadrive.component.sensors.semantic_camera import SemanticCamera\n",
    "from metadrive.engine.asset_loader import AssetLoader\n",
    "from metadrive.envs.scenario_env import ScenarioEnv\n",
    "from metadrive.policy.replay_policy import ReplayEgoCarPolicy\n"
   ]
  },
  {
   "cell_type": "code",
   "execution_count": 2,
   "id": "854336bf-31d3-465a-84c8-31c666170f27",
   "metadata": {},
   "outputs": [
    {
     "name": "stderr",
     "output_type": "stream",
     "text": [
      "\u001b[38;20m[INFO] Environment: ScenarioEnv\u001b[0m\n",
      "\u001b[38;20m[INFO] MetaDrive version: 0.4.2.3\u001b[0m\n",
      "\u001b[38;20m[INFO] Sensors: [lidar: Lidar(), side_detector: SideDetector(), lane_line_detector: LaneLineDetector(), rgb_camera: RGBCamera(1600, 900)]\u001b[0m\n",
      "\u001b[38;20m[INFO] Render Mode: offscreen\u001b[0m\n",
      "\u001b[38;20m[INFO] Horizon (Max steps per agent): 1000\u001b[0m\n"
     ]
    }
   ],
   "source": [
    "\n",
    "env = ScenarioEnv(\n",
    "    {\n",
    "        # To enable onscreen rendering, set this config to True.\n",
    "        \"use_render\": False,\n",
    "\n",
    "        # !!!!! To enable offscreen rendering, set this config to True !!!!!\n",
    "        \"image_observation\": True,\n",
    "\n",
    "        # ===== The scenario and MetaDrive config =====\n",
    "        \"agent_policy\": ReplayEgoCarPolicy,\n",
    "        \"no_traffic\": False,\n",
    "        \"sequential_seed\": True,\n",
    "        \"reactive_traffic\": False,\n",
    "        \"start_scenario_index\": 0,\n",
    "        \"num_scenarios\": 10,\n",
    "        \"horizon\": 1000,\n",
    "        \"no_static_vehicles\": False,\n",
    "        \"vehicle_config\": dict(\n",
    "            show_navi_mark=False,\n",
    "            use_special_color=False,\n",
    "            # image_source=\"semantic_camera\",\n",
    "            lidar=dict(num_lasers=120, distance=50),\n",
    "            lane_line_detector=dict(num_lasers=0, distance=50),\n",
    "            side_detector=dict(num_lasers=12, distance=50)\n",
    "        ),\n",
    "        \"data_directory\": AssetLoader.file_path(\"nuscenes\", unix_style=False),\n",
    "\n",
    "        # ===== Set some sensor and visualization configs =====\n",
    "        \"daytime\": \"08:10\",\n",
    "        \"window_size\": (800, 450),\n",
    "        \"camera_dist\": 0.8,\n",
    "        \"camera_height\": 1.5,\n",
    "        \"camera_pitch\": None,\n",
    "        \"camera_fov\": 60,\n",
    "        # \"interface_panel\": [\"semantic_camera\"],\n",
    "        \"sensors\": dict(\n",
    "            # semantic_camera=(SemanticCamera, 1600, 900),\n",
    "            # depth_camera=(DepthCamera, 800, 600),\n",
    "            rgb_camera=(RGBCamera, 1600, 900),\n",
    "        ),\n",
    "\n",
    "        # ===== Remove useless items in the images =====\n",
    "        \"show_logo\": False,\n",
    "        \"show_fps\": False,\n",
    "        \"show_interface\": True,\n",
    "    }\n",
    ")\n"
   ]
  },
  {
   "cell_type": "code",
   "execution_count": 3,
   "id": "a29df932-4a83-421e-8759-e3e0fa64efb5",
   "metadata": {},
   "outputs": [
    {
     "name": "stderr",
     "output_type": "stream",
     "text": [
      "\u001b[38;20m[INFO] Assets version: 0.4.2.3\u001b[0m\n",
      "\u001b[38;20m[INFO] Known Pipes: glxGraphicsPipe\u001b[0m\n",
      "\u001b[38;20m[INFO] Assets version: 0.4.2.3\u001b[0m\n",
      "\u001b[38;20m[INFO] Known Pipes: glxGraphicsPipe\u001b[0m\n",
      "\u001b[33;20m[WARNING] You are using too large buffer! The height is 900, and width is 1600. It may lower the sample efficiency! Consider reducing buffer size or use cuda image by set [image_on_cuda=True]. (base_camera.py:49)\u001b[0m\n",
      "\u001b[38;20m[INFO] Start Scenario Index: 0, Num Scenarios : 10\u001b[0m\n"
     ]
    },
    {
     "ename": "KeyError",
     "evalue": "\"'is_bounding_box' does not exist in existing config. Please use config.update(...) to update the config. Existing keys: dict_keys(['wheel_friction', 'max_brake_force', 'max_steering', 'max_engine_force', 'max_speed_km_h', 'vehicle_model', 'enable_reverse', 'show_navi_mark', 'show_dest_mark', 'show_line_to_dest', 'show_line_to_navi_mark', 'show_navigation_arrow', 'use_special_color', 'no_wheel_friction', 'image_source', 'navigation_module', 'spawn_lane_index', 'destination', 'spawn_longitude', 'spawn_lateral', 'spawn_position_heading', 'spawn_velocity', 'spawn_velocity_car_frame', 'overtake_stat', 'random_color', 'width', 'length', 'height', 'mass', 'scale', 'top_down_width', 'top_down_length', 'lidar', 'side_detector', 'lane_line_detector', 'show_lidar', 'show_side_detector', 'show_lane_line_detector', 'light']).\"",
     "output_type": "error",
     "traceback": [
      "\u001b[0;31m---------------------------------------------------------------------------\u001b[0m",
      "\u001b[0;31mKeyError\u001b[0m                                  Traceback (most recent call last)",
      "Cell \u001b[0;32mIn[3], line 5\u001b[0m\n\u001b[1;32m      1\u001b[0m \u001b[38;5;66;03m#file_dir = pathlib.Path(\"images_offscreen\")\u001b[39;00m\n\u001b[1;32m      2\u001b[0m \u001b[38;5;66;03m#file_dir.mkdir(exist_ok=True)\u001b[39;00m\n\u001b[1;32m      3\u001b[0m \n\u001b[1;32m      4\u001b[0m \u001b[38;5;66;03m# for ep in range(1):\u001b[39;00m\n\u001b[0;32m----> 5\u001b[0m \u001b[43menv\u001b[49m\u001b[38;5;241;43m.\u001b[39;49m\u001b[43mreset\u001b[49m\u001b[43m(\u001b[49m\u001b[43mseed\u001b[49m\u001b[38;5;241;43m=\u001b[39;49m\u001b[38;5;241;43m6\u001b[39;49m\u001b[43m)\u001b[49m\n\u001b[1;32m      7\u001b[0m \u001b[38;5;66;03m# Run it once to initialize the TopDownRenderer\u001b[39;00m\n\u001b[1;32m      8\u001b[0m env\u001b[38;5;241m.\u001b[39mrender(\n\u001b[1;32m      9\u001b[0m     mode\u001b[38;5;241m=\u001b[39m\u001b[38;5;124m\"\u001b[39m\u001b[38;5;124mtopdown\u001b[39m\u001b[38;5;124m\"\u001b[39m,\n\u001b[1;32m     10\u001b[0m     screen_size\u001b[38;5;241m=\u001b[39m(\u001b[38;5;241m900\u001b[39m, \u001b[38;5;241m900\u001b[39m),  \u001b[38;5;66;03m# The output image size\u001b[39;00m\n\u001b[0;32m   (...)\u001b[0m\n\u001b[1;32m     13\u001b[0m     semantic_map\u001b[38;5;241m=\u001b[39m\u001b[38;5;28;01mTrue\u001b[39;00m,\n\u001b[1;32m     14\u001b[0m )\n",
      "File \u001b[0;32m~/metadrive/metadrive/envs/base_env.py:532\u001b[0m, in \u001b[0;36mBaseEnv.reset\u001b[0;34m(self, seed)\u001b[0m\n\u001b[1;32m    525\u001b[0m \u001b[38;5;28;01mif\u001b[39;00m \u001b[38;5;28mself\u001b[39m\u001b[38;5;241m.\u001b[39mengine \u001b[38;5;129;01mis\u001b[39;00m \u001b[38;5;28;01mNone\u001b[39;00m:\n\u001b[1;32m    526\u001b[0m     \u001b[38;5;28;01mraise\u001b[39;00m \u001b[38;5;167;01mValueError\u001b[39;00m(\n\u001b[1;32m    527\u001b[0m         \u001b[38;5;124m\"\u001b[39m\u001b[38;5;124mCurrent MetaDrive instance is broken. Please make sure there is only one active MetaDrive \u001b[39m\u001b[38;5;124m\"\u001b[39m\n\u001b[1;32m    528\u001b[0m         \u001b[38;5;124m\"\u001b[39m\u001b[38;5;124menvironment exists in one process. You can try to call env.close() and then call \u001b[39m\u001b[38;5;124m\"\u001b[39m\n\u001b[1;32m    529\u001b[0m         \u001b[38;5;124m\"\u001b[39m\u001b[38;5;124menv.reset() to rescue this environment. However, a better and safer solution is to check the \u001b[39m\u001b[38;5;124m\"\u001b[39m\n\u001b[1;32m    530\u001b[0m         \u001b[38;5;124m\"\u001b[39m\u001b[38;5;124msingleton of MetaDrive and restart your program.\u001b[39m\u001b[38;5;124m\"\u001b[39m\n\u001b[1;32m    531\u001b[0m     )\n\u001b[0;32m--> 532\u001b[0m reset_info \u001b[38;5;241m=\u001b[39m \u001b[38;5;28;43mself\u001b[39;49m\u001b[38;5;241;43m.\u001b[39;49m\u001b[43mengine\u001b[49m\u001b[38;5;241;43m.\u001b[39;49m\u001b[43mreset\u001b[49m\u001b[43m(\u001b[49m\u001b[43m)\u001b[49m\n\u001b[1;32m    533\u001b[0m \u001b[38;5;28mself\u001b[39m\u001b[38;5;241m.\u001b[39mreset_sensors()\n\u001b[1;32m    534\u001b[0m \u001b[38;5;66;03m# render the scene\u001b[39;00m\n",
      "File \u001b[0;32m~/metadrive/metadrive/engine/base_engine.py:361\u001b[0m, in \u001b[0;36mBaseEngine.reset\u001b[0;34m(self)\u001b[0m\n\u001b[1;32m    358\u001b[0m \u001b[38;5;28;01mif\u001b[39;00m \u001b[38;5;28mself\u001b[39m\u001b[38;5;241m.\u001b[39mreplay_episode \u001b[38;5;129;01mand\u001b[39;00m \u001b[38;5;28mself\u001b[39m\u001b[38;5;241m.\u001b[39monly_reset_when_replay \u001b[38;5;129;01mand\u001b[39;00m manager \u001b[38;5;129;01mis\u001b[39;00m \u001b[38;5;129;01mnot\u001b[39;00m \u001b[38;5;28mself\u001b[39m\u001b[38;5;241m.\u001b[39mreplay_manager:\n\u001b[1;32m    359\u001b[0m     \u001b[38;5;66;03m# The scene will be generated from replay manager in only reset replay mode\u001b[39;00m\n\u001b[1;32m    360\u001b[0m     \u001b[38;5;28;01mcontinue\u001b[39;00m\n\u001b[0;32m--> 361\u001b[0m new_step_infos \u001b[38;5;241m=\u001b[39m \u001b[43mmanager\u001b[49m\u001b[38;5;241;43m.\u001b[39;49m\u001b[43mreset\u001b[49m\u001b[43m(\u001b[49m\u001b[43m)\u001b[49m\n\u001b[1;32m    362\u001b[0m step_infos \u001b[38;5;241m=\u001b[39m concat_step_infos([step_infos, new_step_infos])\n\u001b[1;32m    364\u001b[0m \u001b[38;5;28;01mif\u001b[39;00m _debug_memory_usage:\n",
      "File \u001b[0;32m~/metadrive/metadrive/manager/agent_manager.py:103\u001b[0m, in \u001b[0;36mVehicleAgentManager.reset\u001b[0;34m(self)\u001b[0m\n\u001b[1;32m    101\u001b[0m \u001b[38;5;28mself\u001b[39m\u001b[38;5;241m.\u001b[39m_infinite_agents \u001b[38;5;241m=\u001b[39m config[\u001b[38;5;124m\"\u001b[39m\u001b[38;5;124mnum_agents\u001b[39m\u001b[38;5;124m\"\u001b[39m] \u001b[38;5;241m==\u001b[39m \u001b[38;5;241m-\u001b[39m\u001b[38;5;241m1\u001b[39m\n\u001b[1;32m    102\u001b[0m \u001b[38;5;28mself\u001b[39m\u001b[38;5;241m.\u001b[39m_allow_respawn \u001b[38;5;241m=\u001b[39m config[\u001b[38;5;124m\"\u001b[39m\u001b[38;5;124mallow_respawn\u001b[39m\u001b[38;5;124m\"\u001b[39m]\n\u001b[0;32m--> 103\u001b[0m \u001b[38;5;28;43msuper\u001b[39;49m\u001b[43m(\u001b[49m\u001b[43mVehicleAgentManager\u001b[49m\u001b[43m,\u001b[49m\u001b[43m \u001b[49m\u001b[38;5;28;43mself\u001b[39;49m\u001b[43m)\u001b[49m\u001b[38;5;241;43m.\u001b[39;49m\u001b[43mreset\u001b[49m\u001b[43m(\u001b[49m\u001b[43m)\u001b[49m\n",
      "File \u001b[0;32m~/metadrive/metadrive/manager/base_manager.py:243\u001b[0m, in \u001b[0;36mBaseAgentManager.reset\u001b[0;34m(self)\u001b[0m\n\u001b[1;32m    241\u001b[0m config \u001b[38;5;241m=\u001b[39m \u001b[38;5;28mself\u001b[39m\u001b[38;5;241m.\u001b[39mengine\u001b[38;5;241m.\u001b[39mglobal_config\n\u001b[1;32m    242\u001b[0m \u001b[38;5;28mself\u001b[39m\u001b[38;5;241m.\u001b[39m_debug \u001b[38;5;241m=\u001b[39m config[\u001b[38;5;124m\"\u001b[39m\u001b[38;5;124mdebug\u001b[39m\u001b[38;5;124m\"\u001b[39m]\n\u001b[0;32m--> 243\u001b[0m \u001b[38;5;28mself\u001b[39m\u001b[38;5;241m.\u001b[39mepisode_created_agents \u001b[38;5;241m=\u001b[39m \u001b[38;5;28;43mself\u001b[39;49m\u001b[38;5;241;43m.\u001b[39;49m\u001b[43m_create_agents\u001b[49m\u001b[43m(\u001b[49m\u001b[43mconfig_dict\u001b[49m\u001b[38;5;241;43m=\u001b[39;49m\u001b[38;5;28;43mself\u001b[39;49m\u001b[38;5;241;43m.\u001b[39;49m\u001b[43mengine\u001b[49m\u001b[38;5;241;43m.\u001b[39;49m\u001b[43mglobal_config\u001b[49m\u001b[43m[\u001b[49m\u001b[38;5;124;43m\"\u001b[39;49m\u001b[38;5;124;43magent_configs\u001b[39;49m\u001b[38;5;124;43m\"\u001b[39;49m\u001b[43m]\u001b[49m\u001b[43m)\u001b[49m\n",
      "File \u001b[0;32m~/metadrive/metadrive/manager/agent_manager.py:45\u001b[0m, in \u001b[0;36mVehicleAgentManager._create_agents\u001b[0;34m(self, config_dict)\u001b[0m\n\u001b[1;32m     41\u001b[0m v_type \u001b[38;5;241m=\u001b[39m random_vehicle_type(\u001b[38;5;28mself\u001b[39m\u001b[38;5;241m.\u001b[39mnp_random) \u001b[38;5;28;01mif\u001b[39;00m \u001b[38;5;28mself\u001b[39m\u001b[38;5;241m.\u001b[39mengine\u001b[38;5;241m.\u001b[39mglobal_config[\u001b[38;5;124m\"\u001b[39m\u001b[38;5;124mrandom_agent_model\u001b[39m\u001b[38;5;124m\"\u001b[39m] \u001b[38;5;28;01melse\u001b[39;00m \\\n\u001b[1;32m     42\u001b[0m     vehicle_type[v_config[\u001b[38;5;124m\"\u001b[39m\u001b[38;5;124mvehicle_model\u001b[39m\u001b[38;5;124m\"\u001b[39m] \u001b[38;5;28;01mif\u001b[39;00m v_config\u001b[38;5;241m.\u001b[39mget(\u001b[38;5;124m\"\u001b[39m\u001b[38;5;124mvehicle_model\u001b[39m\u001b[38;5;124m\"\u001b[39m, \u001b[38;5;28;01mFalse\u001b[39;00m) \u001b[38;5;28;01melse\u001b[39;00m \u001b[38;5;124m\"\u001b[39m\u001b[38;5;124mdefault\u001b[39m\u001b[38;5;124m\"\u001b[39m]\n\u001b[1;32m     44\u001b[0m obj_name \u001b[38;5;241m=\u001b[39m agent_id \u001b[38;5;28;01mif\u001b[39;00m \u001b[38;5;28mself\u001b[39m\u001b[38;5;241m.\u001b[39mengine\u001b[38;5;241m.\u001b[39mglobal_config[\u001b[38;5;124m\"\u001b[39m\u001b[38;5;124mforce_reuse_object_name\u001b[39m\u001b[38;5;124m\"\u001b[39m] \u001b[38;5;28;01melse\u001b[39;00m \u001b[38;5;28;01mNone\u001b[39;00m\n\u001b[0;32m---> 45\u001b[0m obj \u001b[38;5;241m=\u001b[39m \u001b[38;5;28;43mself\u001b[39;49m\u001b[38;5;241;43m.\u001b[39;49m\u001b[43mspawn_object\u001b[49m\u001b[43m(\u001b[49m\u001b[43mv_type\u001b[49m\u001b[43m,\u001b[49m\u001b[43m \u001b[49m\u001b[43mvehicle_config\u001b[49m\u001b[38;5;241;43m=\u001b[39;49m\u001b[43mv_config\u001b[49m\u001b[43m,\u001b[49m\u001b[43m \u001b[49m\u001b[43mname\u001b[49m\u001b[38;5;241;43m=\u001b[39;49m\u001b[43mobj_name\u001b[49m\u001b[43m)\u001b[49m\n\u001b[1;32m     46\u001b[0m ret[agent_id] \u001b[38;5;241m=\u001b[39m obj\n\u001b[1;32m     47\u001b[0m policy_cls \u001b[38;5;241m=\u001b[39m \u001b[38;5;28mself\u001b[39m\u001b[38;5;241m.\u001b[39magent_policy\n",
      "File \u001b[0;32m~/metadrive/metadrive/manager/base_manager.py:80\u001b[0m, in \u001b[0;36mBaseManager.spawn_object\u001b[0;34m(self, object_class, **kwargs)\u001b[0m\n\u001b[1;32m     76\u001b[0m \u001b[38;5;28;01mdef\u001b[39;00m \u001b[38;5;21mspawn_object\u001b[39m(\u001b[38;5;28mself\u001b[39m, object_class, \u001b[38;5;241m*\u001b[39m\u001b[38;5;241m*\u001b[39mkwargs):\n\u001b[1;32m     77\u001b[0m \u001b[38;5;250m    \u001b[39m\u001b[38;5;124;03m\"\"\"\u001b[39;00m\n\u001b[1;32m     78\u001b[0m \u001b[38;5;124;03m    Spawn one objects\u001b[39;00m\n\u001b[1;32m     79\u001b[0m \u001b[38;5;124;03m    \"\"\"\u001b[39;00m\n\u001b[0;32m---> 80\u001b[0m     \u001b[38;5;28mobject\u001b[39m \u001b[38;5;241m=\u001b[39m \u001b[38;5;28;43mself\u001b[39;49m\u001b[38;5;241;43m.\u001b[39;49m\u001b[43mengine\u001b[49m\u001b[38;5;241;43m.\u001b[39;49m\u001b[43mspawn_object\u001b[49m\u001b[43m(\u001b[49m\u001b[43mobject_class\u001b[49m\u001b[43m,\u001b[49m\u001b[43m \u001b[49m\u001b[38;5;241;43m*\u001b[39;49m\u001b[38;5;241;43m*\u001b[39;49m\u001b[43mkwargs\u001b[49m\u001b[43m)\u001b[49m\n\u001b[1;32m     81\u001b[0m     \u001b[38;5;28mself\u001b[39m\u001b[38;5;241m.\u001b[39mspawned_objects[\u001b[38;5;28mobject\u001b[39m\u001b[38;5;241m.\u001b[39mid] \u001b[38;5;241m=\u001b[39m \u001b[38;5;28mobject\u001b[39m\n\u001b[1;32m     82\u001b[0m     \u001b[38;5;28;01mreturn\u001b[39;00m \u001b[38;5;28mobject\u001b[39m\n",
      "File \u001b[0;32m~/metadrive/metadrive/engine/base_engine.py:139\u001b[0m, in \u001b[0;36mBaseEngine.spawn_object\u001b[0;34m(self, object_class, force_spawn, auto_fill_random_seed, record, **kwargs)\u001b[0m\n\u001b[1;32m    136\u001b[0m     kwargs[\u001b[38;5;124m\"\u001b[39m\u001b[38;5;124mrandom_seed\u001b[39m\u001b[38;5;124m\"\u001b[39m] \u001b[38;5;241m=\u001b[39m \u001b[38;5;28mself\u001b[39m\u001b[38;5;241m.\u001b[39mgenerate_seed()\n\u001b[1;32m    137\u001b[0m \u001b[38;5;28;01mif\u001b[39;00m force_spawn \u001b[38;5;129;01mor\u001b[39;00m object_class\u001b[38;5;241m.\u001b[39m\u001b[38;5;18m__name__\u001b[39m \u001b[38;5;129;01mnot\u001b[39;00m \u001b[38;5;129;01min\u001b[39;00m \u001b[38;5;28mself\u001b[39m\u001b[38;5;241m.\u001b[39m_dying_objects \u001b[38;5;129;01mor\u001b[39;00m \u001b[38;5;28mlen\u001b[39m(\n\u001b[1;32m    138\u001b[0m         \u001b[38;5;28mself\u001b[39m\u001b[38;5;241m.\u001b[39m_dying_objects[object_class\u001b[38;5;241m.\u001b[39m\u001b[38;5;18m__name__\u001b[39m]) \u001b[38;5;241m==\u001b[39m \u001b[38;5;241m0\u001b[39m:\n\u001b[0;32m--> 139\u001b[0m     obj \u001b[38;5;241m=\u001b[39m \u001b[43mobject_class\u001b[49m\u001b[43m(\u001b[49m\u001b[38;5;241;43m*\u001b[39;49m\u001b[38;5;241;43m*\u001b[39;49m\u001b[43mkwargs\u001b[49m\u001b[43m)\u001b[49m\n\u001b[1;32m    140\u001b[0m \u001b[38;5;28;01melse\u001b[39;00m:\n\u001b[1;32m    141\u001b[0m     obj \u001b[38;5;241m=\u001b[39m \u001b[38;5;28mself\u001b[39m\u001b[38;5;241m.\u001b[39m_dying_objects[object_class\u001b[38;5;241m.\u001b[39m\u001b[38;5;18m__name__\u001b[39m]\u001b[38;5;241m.\u001b[39mpop()\n",
      "File \u001b[0;32m~/metadrive/metadrive/component/vehicle/base_vehicle.py:171\u001b[0m, in \u001b[0;36mBaseVehicle.__init__\u001b[0;34m(self, vehicle_config, name, random_seed, position, heading, _calling_reset)\u001b[0m\n\u001b[1;32m    169\u001b[0m \u001b[38;5;66;03m# visualization\u001b[39;00m\n\u001b[1;32m    170\u001b[0m \u001b[38;5;28mself\u001b[39m\u001b[38;5;241m.\u001b[39m_use_special_color \u001b[38;5;241m=\u001b[39m use_special_color\n\u001b[0;32m--> 171\u001b[0m \u001b[38;5;28;43mself\u001b[39;49m\u001b[38;5;241;43m.\u001b[39;49m\u001b[43m_add_visualization\u001b[49m\u001b[43m(\u001b[49m\u001b[43m)\u001b[49m\n\u001b[1;32m    173\u001b[0m \u001b[38;5;66;03m# navigation module\u001b[39;00m\n\u001b[1;32m    174\u001b[0m \u001b[38;5;28mself\u001b[39m\u001b[38;5;241m.\u001b[39mnavigation: Optional[NodeNetworkNavigation] \u001b[38;5;241m=\u001b[39m \u001b[38;5;28;01mNone\u001b[39;00m\n",
      "File \u001b[0;32m~/metadrive/metadrive/component/vehicle/base_vehicle.py:638\u001b[0m, in \u001b[0;36mBaseVehicle._add_visualization\u001b[0;34m(self)\u001b[0m\n\u001b[1;32m    636\u001b[0m \u001b[38;5;28;01mdef\u001b[39;00m \u001b[38;5;21m_add_visualization\u001b[39m(\u001b[38;5;28mself\u001b[39m):\n\u001b[1;32m    637\u001b[0m     \u001b[38;5;28;01mif\u001b[39;00m \u001b[38;5;28mself\u001b[39m\u001b[38;5;241m.\u001b[39mrender:\n\u001b[0;32m--> 638\u001b[0m         is_bounding_box \u001b[38;5;241m=\u001b[39m \u001b[38;5;28;43mself\u001b[39;49m\u001b[38;5;241;43m.\u001b[39;49m\u001b[43mconfig\u001b[49m\u001b[43m[\u001b[49m\u001b[38;5;124;43m\"\u001b[39;49m\u001b[38;5;124;43mis_bounding_box\u001b[39;49m\u001b[38;5;124;43m\"\u001b[39;49m\u001b[43m]\u001b[49m\n\u001b[1;32m    639\u001b[0m         path, scale, offset, HPR \u001b[38;5;241m=\u001b[39m \u001b[38;5;28mself\u001b[39m\u001b[38;5;241m.\u001b[39mpath\n\u001b[1;32m    640\u001b[0m         \u001b[38;5;28;01mif\u001b[39;00m path \u001b[38;5;129;01mnot\u001b[39;00m \u001b[38;5;129;01min\u001b[39;00m BaseVehicle\u001b[38;5;241m.\u001b[39mmodel_collection:\n",
      "File \u001b[0;32m~/metadrive/metadrive/utils/config.py:226\u001b[0m, in \u001b[0;36mConfig.__getitem__\u001b[0;34m(self, item)\u001b[0m\n\u001b[1;32m    225\u001b[0m \u001b[38;5;28;01mdef\u001b[39;00m \u001b[38;5;21m__getitem__\u001b[39m(\u001b[38;5;28mself\u001b[39m, item):\n\u001b[0;32m--> 226\u001b[0m     \u001b[38;5;28;43mself\u001b[39;49m\u001b[38;5;241;43m.\u001b[39;49m\u001b[43m_check_and_raise_key_error\u001b[49m\u001b[43m(\u001b[49m\u001b[43mitem\u001b[49m\u001b[43m)\u001b[49m\n\u001b[1;32m    227\u001b[0m     ret \u001b[38;5;241m=\u001b[39m \u001b[38;5;28mself\u001b[39m\u001b[38;5;241m.\u001b[39m_config[item]\n\u001b[1;32m    228\u001b[0m     \u001b[38;5;28;01mreturn\u001b[39;00m ret\n",
      "File \u001b[0;32m~/metadrive/metadrive/utils/config.py:212\u001b[0m, in \u001b[0;36mConfig._check_and_raise_key_error\u001b[0;34m(self, key)\u001b[0m\n\u001b[1;32m    210\u001b[0m \u001b[38;5;28;01mdef\u001b[39;00m \u001b[38;5;21m_check_and_raise_key_error\u001b[39m(\u001b[38;5;28mself\u001b[39m, key):\n\u001b[1;32m    211\u001b[0m     \u001b[38;5;28;01mif\u001b[39;00m key \u001b[38;5;129;01mnot\u001b[39;00m \u001b[38;5;129;01min\u001b[39;00m \u001b[38;5;28mself\u001b[39m\u001b[38;5;241m.\u001b[39m_config:\n\u001b[0;32m--> 212\u001b[0m         \u001b[38;5;28;01mraise\u001b[39;00m \u001b[38;5;167;01mKeyError\u001b[39;00m(\n\u001b[1;32m    213\u001b[0m             \u001b[38;5;124m\"\u001b[39m\u001b[38;5;124m'\u001b[39m\u001b[38;5;132;01m{}\u001b[39;00m\u001b[38;5;124m'\u001b[39m\u001b[38;5;124m does not exist in existing config. \u001b[39m\u001b[38;5;124m\"\u001b[39m\n\u001b[1;32m    214\u001b[0m             \u001b[38;5;124m\"\u001b[39m\u001b[38;5;124mPlease use config.update(...) to update the config. Existing keys: \u001b[39m\u001b[38;5;132;01m{}\u001b[39;00m\u001b[38;5;124m.\u001b[39m\u001b[38;5;124m\"\u001b[39m\u001b[38;5;241m.\u001b[39mformat(\n\u001b[1;32m    215\u001b[0m                 key, \u001b[38;5;28mself\u001b[39m\u001b[38;5;241m.\u001b[39m_config\u001b[38;5;241m.\u001b[39mkeys()\n\u001b[1;32m    216\u001b[0m             )\n\u001b[1;32m    217\u001b[0m         )\n",
      "\u001b[0;31mKeyError\u001b[0m: \"'is_bounding_box' does not exist in existing config. Please use config.update(...) to update the config. Existing keys: dict_keys(['wheel_friction', 'max_brake_force', 'max_steering', 'max_engine_force', 'max_speed_km_h', 'vehicle_model', 'enable_reverse', 'show_navi_mark', 'show_dest_mark', 'show_line_to_dest', 'show_line_to_navi_mark', 'show_navigation_arrow', 'use_special_color', 'no_wheel_friction', 'image_source', 'navigation_module', 'spawn_lane_index', 'destination', 'spawn_longitude', 'spawn_lateral', 'spawn_position_heading', 'spawn_velocity', 'spawn_velocity_car_frame', 'overtake_stat', 'random_color', 'width', 'length', 'height', 'mass', 'scale', 'top_down_width', 'top_down_length', 'lidar', 'side_detector', 'lane_line_detector', 'show_lidar', 'show_side_detector', 'show_lane_line_detector', 'light']).\""
     ]
    }
   ],
   "source": [
    "#file_dir = pathlib.Path(\"images_offscreen\")\n",
    "#file_dir.mkdir(exist_ok=True)\n",
    "\n",
    "# for ep in range(1):\n",
    "env.reset(seed=6)\n",
    "\n",
    "# Run it once to initialize the TopDownRenderer\n",
    "env.render(\n",
    "    mode=\"topdown\",\n",
    "    screen_size=(900, 900),  # The output image size\n",
    "    film_size=(9000, 9000),  # The internal canvas size. You can use this to \"crop\" images.\n",
    "    target_vehicle_heading_up=True,\n",
    "    semantic_map=True,\n",
    ")\n",
    "\n",
    "for t in range(10000):\n",
    "\n",
    "    # We don't have interface in offscreen. So comment out:\n",
    "    # env.capture(\"rgb_deluxe_{}_{}.jpg\".format(env.current_seed, t))\n",
    "\n",
    "    ret = env.render(\n",
    "        mode=\"topdown\",\n",
    "        screen_size=(1600, 900),\n",
    "        film_size=(9000, 9000),\n",
    "        target_vehicle_heading_up=True,\n",
    "        semantic_map=True,\n",
    "        to_image=False\n",
    "    )\n",
    "\n",
    "    bev_image = ret\n",
    "    \n",
    "    # pygame.image.save(ret, str(file_dir / \"bev_{}.png\".format(t)))\n",
    "    # env.engine.get_sensor(\"depth_camera\").save_image(env.agent, str(file_dir / \"depth_{}.jpg\".format(t)))\n",
    "    rgb_image = env.engine.get_sensor(\"rgb_camera\").get_image(env.agent)\n",
    "    # env.engine.get_sensor(\"semantic_camera\").save_image(env.agent, str(file_dir / \"semantic_{}.jpg\".format(t)))\n",
    "    # print(\"Image at step {} is saved at: {}\".format(t, file_dir))\n",
    "\n",
    "    # scenario = env.engine.data_manager.current_scenario\n",
    "    # print(\n",
    "    #     f\"Current scenario ID {scenario['id']}, dataset version {scenario['version']}, len: {scenario['length']}\"\n",
    "    # )\n",
    "\n",
    "    # if t == 30:\n",
    "    #     break\n",
    "    env.step([1, 0.88])\n"
   ]
  },
  {
   "cell_type": "code",
   "execution_count": null,
   "id": "d1a054a9-e2c0-410c-80a8-6b275beb3ccc",
   "metadata": {},
   "outputs": [],
   "source": []
  }
 ],
 "metadata": {
  "kernelspec": {
   "display_name": "Python 3 (ipykernel)",
   "language": "python",
   "name": "python3"
  },
  "language_info": {
   "codemirror_mode": {
    "name": "ipython",
    "version": 3
   },
   "file_extension": ".py",
   "mimetype": "text/x-python",
   "name": "python",
   "nbconvert_exporter": "python",
   "pygments_lexer": "ipython3",
   "version": "3.10.12"
  }
 },
 "nbformat": 4,
 "nbformat_minor": 5
}
